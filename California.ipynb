
  {
   "cell_type": "code",
   "execution_count": null,
   "metadata": {
    "scrolled": false
   },
   "outputs": [],
   "source": [
    "from IPython.display import display, HTML\n",
    "from bokeh.io import show\n",
    "from bokeh.models import LogColorMapper, ColumnDataSource\n",
    "from bokeh.palettes import Cividis256 as palette\n",
    "from bokeh.plotting import figure\n",
    "from bokeh.sampledata.us_counties import data as counties\n",
    "import pandas as pd\n",
    "\n",
    "\n",
    "#Import data file\n",
    "df = pd.read_csv('/Users/Valerie/cali_data.csv',delimiter=',', header=0, skiprows=2)\n",
    "\n",
    "#Drop first row\n",
    "df = df.drop(df.index[0])\n",
    "\n",
    "#Rename specific columns\n",
    "df2 = df.rename(columns={'CA County':'county_name', 'Poverty Percent, All Ages': 'poverty_percent', 'Median Household Income': 'median_income' },inplace=True)\n",
    "\n",
    "#Select columns\n",
    "df_factors = df[[\"county_name\", \"poverty_percent\", \"median_income\"]]\n",
    "\n",
    "#Convert to dictionary\n",
    "df_dic = df_factors.to_dict('index')\n",
    "\n",
    "\n",
    "display(HTML(df_factors.to_html()))\n"
   ]
  },
  {
   "cell_type": "code",
   "execution_count": null,
   "metadata": {},
   "outputs": [],
   "source": [
    "palette = tuple(reversed(palette))\n",
    "\n",
    "counties = {\n",
    "    code: county for code, county in counties.items() if county[\"state\"] == \"ca\"\n",
    "}\n",
    "\n",
    "county_xs = [county[\"lons\"] for county in counties.values()]\n",
    "county_ys = [county[\"lats\"] for county in counties.values()]\n",
    "\n",
    "\n",
    "#Merge the two dicts\n",
    "def merge_two_dicts(a_dict, b_dict):\n",
    "    # iterate thru keys of each dict in order (using python 3) \n",
    "    # assuming dicts are same length\n",
    "    for idx in range(len(b_dict)):\n",
    "\n",
    "        a_key = list(a_dict.keys())[idx]\n",
    "        b_key = list(b_dict.keys())[idx]\n",
    "\n",
    "        if('median_income' in a_dict[a_key]):\n",
    "            b_dict[b_key]['median_income'] = a_dict[a_key]['median_income']\n",
    "\n",
    "        if('poverty_percent' in a_dict[a_key]):\n",
    "            b_dict[b_key]['poverty_percent'] = a_dict[a_key]['poverty_percent']\n",
    "           \n",
    "    return b_dict\n",
    "\n",
    "a_dict = df_dic\n",
    "b_dict = counties\n",
    "\n",
    "#Overwrite previous value of counties\n",
    "counties= merge_two_dicts(a_dict, b_dict)\n",
    "\n",
    "print(counties)\n"
   ]
  },
  {
   "cell_type": "code",
   "execution_count": null,
   "metadata": {},
   "outputs": [],
   "source": [
    "county_names = [county['name'] for county in counties.values()]\n",
    "poverty_est = [county['poverty_percent'] for county in counties.values()]\n",
    "median_income = [county['median_income'] for county in counties.values()]\n",
    "color_mapper = LogColorMapper(palette=palette)\n",
    "\n",
    "\n",
    "data=dict(\n",
    "    x=county_xs,\n",
    "    y=county_ys,\n",
    "    name=county_names,\n",
    "    poverty=poverty_est,\n",
    "    income = median_income\n",
    "    \n",
    ")\n",
    "\n",
    "print(data)\n"
   ]
  },
  {
   "cell_type": "code",
   "execution_count": null,
   "metadata": {},
   "outputs": [],
   "source": [
    "TOOLS = \"pan,wheel_zoom,reset,hover,save\"\n",
    "\n",
    "p = figure(\n",
    "    title=\"CA Poverty and Median Household Income, 2019\", tools=TOOLS,\n",
    "    x_axis_location=None, y_axis_location=None,\n",
    "    tooltips=[\n",
    "        (\"Name\", \"@name\"), (\"Poverty Percentage\", \"@poverty%\"), ('Median Household Income', \"@income\"), (\"(Long, Lat)\", \"($x, $y)\")\n",
    "    ])\n",
    "p.grid.grid_line_color = None\n",
    "p.hover.point_policy = \"follow_mouse\"\n",
    "\n",
    "p.patches('x', 'y', source=data,\n",
    "          fill_color={'field': 'poverty', 'transform': color_mapper},\n",
    "          fill_alpha=0.7, line_color=\"white\", line_width=0.5)\n",
    "\n",
    "show(p)"
   ]
  },
  {
   "cell_type": "code",
   "execution_count": null,
   "metadata": {},
   "outputs": [],
   "source": []
  },
  {
   "cell_type": "code",
   "execution_count": null,
   "metadata": {},
   "outputs": [],
   "source": []
  }
 ],
 "metadata": {
  "kernelspec": {
   "display_name": "Python 3",
   "language": "python",
   "name": "python3"
  },
  "language_info": {
   "codemirror_mode": {
    "name": "ipython",
    "version": 3
   },
   "file_extension": ".py",
   "mimetype": "text/x-python",
   "name": "python",
   "nbconvert_exporter": "python",
   "pygments_lexer": "ipython3",
   "version": "3.8.5"
  }
 },
 "nbformat": 4,
 "nbformat_minor": 4
}
